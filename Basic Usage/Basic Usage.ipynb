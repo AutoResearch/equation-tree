{
 "cells": [
  {
   "attachments": {},
   "cell_type": "markdown",
   "metadata": {
    "collapsed": false
   },
   "source": [
    "# Basic Usage\n"
   ]
  },
  {
   "cell_type": "code",
   "execution_count": 1,
   "metadata": {
    "collapsed": false
   },
   "outputs": [
    {
     "name": "stdout",
     "output_type": "stream",
     "text": [
      "Requirement already satisfied: equation_tree in /Users/younesstrittmatter/Documents/GitHub/AutoRA/equation-tree/src (0.0.11.dev21+gc4ad4e6.d20230918)\r\n",
      "Requirement already satisfied: numpy in /Users/younesstrittmatter/Documents/GitHub/AutoRA/equation-tree/venv/lib/python3.11/site-packages (from equation_tree) (1.25.2)\r\n",
      "Requirement already satisfied: sympy in /Users/younesstrittmatter/Documents/GitHub/AutoRA/equation-tree/venv/lib/python3.11/site-packages (from equation_tree) (1.12)\r\n",
      "Requirement already satisfied: importlib_resources in /Users/younesstrittmatter/Documents/GitHub/AutoRA/equation-tree/venv/lib/python3.11/site-packages (from equation_tree) (6.0.1)\r\n",
      "Requirement already satisfied: tqdm in /Users/younesstrittmatter/Documents/GitHub/AutoRA/equation-tree/venv/lib/python3.11/site-packages (from equation_tree) (4.66.1)\r\n",
      "Requirement already satisfied: mpmath>=0.19 in /Users/younesstrittmatter/Documents/GitHub/AutoRA/equation-tree/venv/lib/python3.11/site-packages (from sympy->equation_tree) (1.3.0)\r\n",
      "\r\n",
      "\u001B[1m[\u001B[0m\u001B[34;49mnotice\u001B[0m\u001B[1;39;49m]\u001B[0m\u001B[39;49m A new release of pip is available: \u001B[0m\u001B[31;49m23.1.2\u001B[0m\u001B[39;49m -> \u001B[0m\u001B[32;49m23.3.1\u001B[0m\r\n",
      "\u001B[1m[\u001B[0m\u001B[34;49mnotice\u001B[0m\u001B[1;39;49m]\u001B[0m\u001B[39;49m To update, run: \u001B[0m\u001B[32;49mpip install --upgrade pip\u001B[0m\r\n"
     ]
    }
   ],
   "source": [
    "!pip install equation_tree"
   ]
  },
  {
   "cell_type": "markdown",
   "source": [
    "Include inline mathematics like this: $4 < 5$\n",
    "\n",
    "Include block mathematics like this (don't forget the empty lines above and below the block):\n",
    "\n",
    "$$  \n",
    "y + 1 = 4 \n",
    "$$\n",
    "\n",
    "... or this:\n",
    "\n",
    "\\begin{align}\n",
    "    p(v_i=1|\\mathbf{h}) & = \\sigma\\left(\\sum_j w_{ij}h_j + b_i\\right) \\\\\n",
    "    p(h_j=1|\\mathbf{v}) & = \\sigma\\left(\\sum_i w_{ij}v_i + c_j\\right)\n",
    "\\end{align}"
   ],
   "metadata": {
    "collapsed": false
   }
  },
  {
   "cell_type": "markdown",
   "metadata": {},
   "source": []
  }
 ],
 "metadata": {
  "kernelspec": {
   "display_name": "Python 3",
   "language": "python",
   "name": "python3"
  },
  "language_info": {
   "codemirror_mode": {
    "name": "ipython",
    "version": 2
   },
   "file_extension": ".py",
   "mimetype": "text/x-python",
   "name": "python",
   "nbconvert_exporter": "python",
   "pygments_lexer": "ipython2",
   "version": "2.7.6"
  }
 },
 "nbformat": 4,
 "nbformat_minor": 0
}
