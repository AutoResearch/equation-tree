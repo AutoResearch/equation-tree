{
 "cells": [
  {
   "attachments": {},
   "cell_type": "markdown",
   "metadata": {
    "collapsed": false
   },
   "source": [
    "# Basic Usage\n",
    "Here, we demonstrate core functionalities of the Equation Tree:\n",
    "- Basic Functionality for sampling and processing equations\n",
    "- Advanced settings for sampling equations\n",
    "\n",
    "## Installation"
   ]
  },
  {
   "cell_type": "code",
   "execution_count": 1,
   "metadata": {
    "collapsed": false
   },
   "outputs": [
    {
     "name": "stdout",
     "output_type": "stream",
     "text": [
      "Requirement already satisfied: equation_tree in /Users/younesstrittmatter/Documents/GitHub/AutoRA/equation-tree/src (0.0.11.dev27+g1da6b63.d20231102)\r\n",
      "Requirement already satisfied: numpy in /Users/younesstrittmatter/Documents/GitHub/AutoRA/equation-tree/venv/lib/python3.11/site-packages (from equation_tree) (1.25.2)\r\n",
      "Requirement already satisfied: sympy in /Users/younesstrittmatter/Documents/GitHub/AutoRA/equation-tree/venv/lib/python3.11/site-packages (from equation_tree) (1.12)\r\n",
      "Requirement already satisfied: importlib_resources in /Users/younesstrittmatter/Documents/GitHub/AutoRA/equation-tree/venv/lib/python3.11/site-packages (from equation_tree) (6.0.1)\r\n",
      "Requirement already satisfied: tqdm in /Users/younesstrittmatter/Documents/GitHub/AutoRA/equation-tree/venv/lib/python3.11/site-packages (from equation_tree) (4.66.1)\r\n",
      "Requirement already satisfied: mpmath>=0.19 in /Users/younesstrittmatter/Documents/GitHub/AutoRA/equation-tree/venv/lib/python3.11/site-packages (from sympy->equation_tree) (1.3.0)\r\n",
      "\r\n",
      "\u001B[1m[\u001B[0m\u001B[34;49mnotice\u001B[0m\u001B[1;39;49m]\u001B[0m\u001B[39;49m A new release of pip is available: \u001B[0m\u001B[31;49m23.1.2\u001B[0m\u001B[39;49m -> \u001B[0m\u001B[32;49m23.3.1\u001B[0m\r\n",
      "\u001B[1m[\u001B[0m\u001B[34;49mnotice\u001B[0m\u001B[1;39;49m]\u001B[0m\u001B[39;49m To update, run: \u001B[0m\u001B[32;49mpip install --upgrade pip\u001B[0m\r\n"
     ]
    }
   ],
   "source": [
    "import random\n",
    "!pip install equation_tree"
   ]
  },
  {
   "cell_type": "markdown",
   "source": [
    "## Basic Functionality\n",
    "\n",
    "### Sampling With Default Settings\n",
    "First, we need to import the functionality. Here we also set a seed to ensure reproducible results."
   ],
   "metadata": {
    "collapsed": false
   }
  },
  {
   "cell_type": "code",
   "execution_count": 2,
   "outputs": [],
   "source": [
    "from equation_tree import sample\n",
    "\n",
    "# To obtain reproducible results, we set a seed for the following section\n",
    "import numpy as np\n",
    "np.random.seed(42)\n",
    "# Adjusting the input dimension of the equations"
   ],
   "metadata": {
    "collapsed": false
   }
  },
  {
   "cell_type": "markdown",
   "source": [
    "We use this to sample an equation:"
   ],
   "metadata": {
    "collapsed": false
   }
  },
  {
   "cell_type": "code",
   "execution_count": 3,
   "outputs": [
    {
     "name": "stderr",
     "output_type": "stream",
     "text": [
      "/Users/younesstrittmatter/Documents/GitHub/AutoRA/equation-tree/src/equation_tree/util/io.py:27: UserWarning: No hashed prior found. Sample frequencies may diverge from the prior. Consider burning this prior first.\n",
      "  warnings.warn(\n",
      "Processing: 100%|██████████| 1/1 [00:00<00:00,  9.77iteration/s]\n"
     ]
    }
   ],
   "source": [
    "equation = sample()"
   ],
   "metadata": {
    "collapsed": false
   }
  },
  {
   "cell_type": "markdown",
   "source": [
    "### Equation Representations And Features\n",
    "\n",
    "First, lets look at the type of the equation"
   ],
   "metadata": {
    "collapsed": false
   }
  },
  {
   "cell_type": "code",
   "execution_count": 4,
   "outputs": [
    {
     "data": {
      "text/plain": "list"
     },
     "execution_count": 4,
     "metadata": {},
     "output_type": "execute_result"
    }
   ],
   "source": [
    "type(equation)"
   ],
   "metadata": {
    "collapsed": false
   }
  },
  {
   "cell_type": "markdown",
   "source": [
    "It is a list! This is because we can sample multiple equations in one go:"
   ],
   "metadata": {
    "collapsed": false
   }
  },
  {
   "cell_type": "code",
   "execution_count": 5,
   "outputs": [
    {
     "name": "stderr",
     "output_type": "stream",
     "text": [
      "Processing:   0%|          | 0/100 [00:00<?, ?iteration/s]/Users/younesstrittmatter/Documents/GitHub/AutoRA/equation-tree/src/equation_tree/tree.py:51: RuntimeWarning: invalid value encountered in log\n",
      "  \"log\": lambda a: np.log(a),\n",
      "/Users/younesstrittmatter/Documents/GitHub/AutoRA/equation-tree/src/equation_tree/tree.py:55: RuntimeWarning: invalid value encountered in arccos\n",
      "  \"acos\": lambda a: np.arccos(a),\n",
      "Processing:   7%|▋         | 7/100 [00:00<00:01, 68.58iteration/s]/Users/younesstrittmatter/Documents/GitHub/AutoRA/equation-tree/src/equation_tree/tree.py:40: RuntimeWarning: invalid value encountered in scalar power\n",
      "  \"^\": lambda a, b: a**b,\n",
      "/Users/younesstrittmatter/Documents/GitHub/AutoRA/equation-tree/src/equation_tree/tree.py:52: RuntimeWarning: invalid value encountered in sqrt\n",
      "  \"sqrt\": lambda a: np.sqrt(a),\n",
      "Processing:  14%|█▍        | 14/100 [00:00<00:01, 68.71iteration/s]/Users/younesstrittmatter/Documents/GitHub/AutoRA/equation-tree/src/equation_tree/tree.py:56: RuntimeWarning: invalid value encountered in arcsin\n",
      "  \"asin\": lambda a: np.arcsin(a),\n",
      "Processing: 100%|██████████| 100/100 [00:01<00:00, 85.06iteration/s]\n"
     ]
    }
   ],
   "source": [
    "equations = sample(n = 100)"
   ],
   "metadata": {
    "collapsed": false
   }
  },
  {
   "cell_type": "markdown",
   "source": [
    "This returns 100 equations:"
   ],
   "metadata": {
    "collapsed": false
   }
  },
  {
   "cell_type": "code",
   "execution_count": 6,
   "outputs": [
    {
     "data": {
      "text/plain": "100"
     },
     "execution_count": 6,
     "metadata": {},
     "output_type": "execute_result"
    }
   ],
   "source": [
    "len(equations)"
   ],
   "metadata": {
    "collapsed": false
   }
  },
  {
   "cell_type": "code",
   "execution_count": 7,
   "outputs": [
    {
     "data": {
      "text/plain": "-sin(x_1 - exp(exp(x_1)))"
     },
     "execution_count": 7,
     "metadata": {},
     "output_type": "execute_result"
    }
   ],
   "source": [
    "equations[0]"
   ],
   "metadata": {
    "collapsed": false
   }
  },
  {
   "cell_type": "code",
   "execution_count": 8,
   "outputs": [
    {
     "data": {
      "text/plain": "-c_2 + tan(c_1*x_1)"
     },
     "execution_count": 8,
     "metadata": {},
     "output_type": "execute_result"
    }
   ],
   "source": [
    "equations[42]"
   ],
   "metadata": {
    "collapsed": false
   }
  },
  {
   "cell_type": "markdown",
   "source": [
    "They are represented as strings, but we can look at other representations as well. For example, prefix notation (for more details on different representations of the equations, see the respective section of the documentation):"
   ],
   "metadata": {
    "collapsed": false
   }
  },
  {
   "cell_type": "code",
   "execution_count": 9,
   "outputs": [
    {
     "data": {
      "text/plain": "['-', 'tan', '*', 'c_1', 'x_1', 'c_2']"
     },
     "execution_count": 9,
     "metadata": {},
     "output_type": "execute_result"
    }
   ],
   "source": [
    "equations[42].prefix"
   ],
   "metadata": {
    "collapsed": false
   }
  },
  {
   "cell_type": "markdown",
   "source": [
    "We can also look at features of the equation, for example at the number of constants, the tree depth of the underlying tree, the number of nodes or the tree structure (for more details on these features, see the respective section of the documentation):"
   ],
   "metadata": {
    "collapsed": false
   }
  },
  {
   "cell_type": "code",
   "execution_count": 10,
   "outputs": [
    {
     "data": {
      "text/plain": "2"
     },
     "execution_count": 10,
     "metadata": {},
     "output_type": "execute_result"
    }
   ],
   "source": [
    "equations[42].n_constants"
   ],
   "metadata": {
    "collapsed": false
   }
  },
  {
   "cell_type": "code",
   "execution_count": 11,
   "outputs": [
    {
     "data": {
      "text/plain": "3"
     },
     "execution_count": 11,
     "metadata": {},
     "output_type": "execute_result"
    }
   ],
   "source": [
    "equations[42].depth"
   ],
   "metadata": {
    "collapsed": false
   }
  },
  {
   "cell_type": "code",
   "execution_count": 12,
   "outputs": [
    {
     "data": {
      "text/plain": "6"
     },
     "execution_count": 12,
     "metadata": {},
     "output_type": "execute_result"
    }
   ],
   "source": [
    "equations[42].n_nodes"
   ],
   "metadata": {
    "collapsed": false
   }
  },
  {
   "cell_type": "code",
   "execution_count": 13,
   "outputs": [
    {
     "data": {
      "text/plain": "[0, 1, 2, 3, 3, 1]"
     },
     "execution_count": 13,
     "metadata": {},
     "output_type": "execute_result"
    }
   ],
   "source": [
    "equations[42].structure"
   ],
   "metadata": {
    "collapsed": false
   }
  },
  {
   "cell_type": "markdown",
   "source": [],
   "metadata": {
    "collapsed": false
   }
  },
  {
   "cell_type": "markdown",
   "source": [
    "### Instantiate Equations\n",
    "\n",
    "Note: the sampled equation are abstract: c_1 are representation of a constant. We can instantiate constants to be numbers:"
   ],
   "metadata": {
    "collapsed": false
   }
  },
  {
   "cell_type": "code",
   "execution_count": 14,
   "outputs": [
    {
     "name": "stdout",
     "output_type": "stream",
     "text": [
      "abstract: -c_2 + tan(c_1*x_1) , instantiated: tan(0.2720878822071884*x_1) - 0.4936315339297549\n"
     ]
    }
   ],
   "source": [
    "# first we need to import the functionality\n",
    "from equation_tree import instantiate_constants\n",
    "import random\n",
    "\n",
    "# then we can use a function to instantiate the constants. For example for random constants between 0 and 1:\n",
    "instantiated_equation = instantiate_constants(equations[42], lambda : random.random())\n",
    "print(f'abstract: {equations[42]}', f', instantiated: {instantiated_equation}')"
   ],
   "metadata": {
    "collapsed": false
   }
  },
  {
   "cell_type": "code",
   "execution_count": 15,
   "outputs": [
    {
     "name": "stdout",
     "output_type": "stream",
     "text": [
      "abstract: c_2*x_1**c_1 , instantiated: x_1\n"
     ]
    }
   ],
   "source": [
    "# we can also use other functions (for example all functions to be a constant\n",
    "instantiated_equation_ = instantiate_constants(equations[41], lambda : 1)\n",
    "print(f'abstract: {equations[41]}', f', instantiated: {instantiated_equation_}')"
   ],
   "metadata": {
    "collapsed": false
   }
  },
  {
   "cell_type": "markdown",
   "source": [
    "**We can use arbitrary functions to instantiate the constants.\n",
    "\n",
    "### Evaluating Equations\n",
    "\n",
    "After instantiating equations, we can also evaluate on arbitrary input:"
   ],
   "metadata": {
    "collapsed": false
   }
  },
  {
   "cell_type": "code",
   "execution_count": 16,
   "outputs": [
    {
     "data": {
      "text/plain": "array([-0.21462429,  0.11148855,  0.57008635,  1.41577756])"
     },
     "execution_count": 16,
     "metadata": {},
     "output_type": "execute_result"
    }
   ],
   "source": [
    "# import functionality\n",
    "values = instantiated_equation.evaluate({'x_1': [1, 2, 3, 4]})\n",
    "values"
   ],
   "metadata": {
    "collapsed": false
   }
  },
  {
   "cell_type": "code",
   "execution_count": 17,
   "outputs": [
    {
     "data": {
      "text/plain": "array([-0.21462429,  0.11148855,  0.57008635,  1.41577756])"
     },
     "execution_count": 17,
     "metadata": {},
     "output_type": "execute_result"
    }
   ],
   "source": [
    "# We can also use pandas dataframes as inputs:\n",
    "\n",
    "# import functionality\n",
    "import pandas as pd\n",
    "\n",
    "# define the input and get the values\n",
    "input_df = pd.DataFrame({'x_1': [1, 2, 3, 4]})\n",
    "instantiated_equation.evaluate(input_df)"
   ],
   "metadata": {
    "collapsed": false
   }
  },
  {
   "cell_type": "markdown",
   "source": [
    "\n",
    "## Sample Settings\n",
    "\n",
    "When sampling equations, we can control for a variety of features of the underlying distribution.\n",
    "\n",
    "### Input Dimensions\n",
    "\n",
    "We can manipulate the space on witch the equation is defined. For example, if we want equations that are defined on 2-dimensions, we can write:"
   ],
   "metadata": {
    "collapsed": false
   }
  },
  {
   "cell_type": "code",
   "execution_count": 25,
   "outputs": [
    {
     "name": "stderr",
     "output_type": "stream",
     "text": [
      "/Users/younesstrittmatter/Documents/GitHub/AutoRA/equation-tree/src/equation_tree/util/io.py:27: UserWarning: No hashed prior found. Sample frequencies may diverge from the prior. Consider burning this prior first.\n",
      "  warnings.warn(\n",
      "Processing:   0%|          | 0/5 [00:00<?, ?iteration/s]/Users/younesstrittmatter/Documents/GitHub/AutoRA/equation-tree/src/equation_tree/tree.py:55: RuntimeWarning: invalid value encountered in arccos\n",
      "  \"acos\": lambda a: np.arccos(a),\n",
      "/Users/younesstrittmatter/Documents/GitHub/AutoRA/equation-tree/src/equation_tree/tree.py:51: RuntimeWarning: invalid value encountered in log\n",
      "  \"log\": lambda a: np.log(a),\n",
      "/Users/younesstrittmatter/Documents/GitHub/AutoRA/equation-tree/src/equation_tree/tree.py:56: RuntimeWarning: invalid value encountered in arcsin\n",
      "  \"asin\": lambda a: np.arcsin(a),\n",
      "/Users/younesstrittmatter/Documents/GitHub/AutoRA/equation-tree/src/equation_tree/tree.py:52: RuntimeWarning: invalid value encountered in sqrt\n",
      "  \"sqrt\": lambda a: np.sqrt(a),\n",
      "Processing: 100%|██████████| 5/5 [00:00<00:00, 112.51iteration/s]\n"
     ]
    }
   ],
   "source": [
    "equations_2d = sample(n=5, max_num_variables=2)"
   ],
   "metadata": {
    "collapsed": false
   }
  },
  {
   "cell_type": "code",
   "execution_count": 27,
   "outputs": [
    {
     "data": {
      "text/plain": "[acos(Abs(acos(x_1))),\n -Abs(x_2) + asin(log(x_1)),\n Max(c_1, x_1),\n Max(x_1, Abs(sqrt(sin(x_1)))),\n cos(x_1*(c_1 + x_2))]"
     },
     "execution_count": 27,
     "metadata": {},
     "output_type": "execute_result"
    }
   ],
   "source": [
    "equations_2d"
   ],
   "metadata": {
    "collapsed": false
   }
  },
  {
   "cell_type": "markdown",
   "source": [
    "**Note: Not all the equations have exactly 2 input variable. Some of them have only one. This is since equations with only one input variable are still defined on 2 (or more dimensions)\n",
    "\n",
    "### Equation Complexity\n",
    "\n",
    "We can also manipulate the equation complexity (as number of nodes)"
   ],
   "metadata": {
    "collapsed": false
   }
  },
  {
   "cell_type": "code",
   "execution_count": 28,
   "outputs": [
    {
     "name": "stderr",
     "output_type": "stream",
     "text": [
      "/Users/younesstrittmatter/Documents/GitHub/AutoRA/equation-tree/src/equation_tree/util/io.py:27: UserWarning: No hashed prior found. Sample frequencies may diverge from the prior. Consider burning this prior first.\n",
      "  warnings.warn(\n",
      "Processing:   0%|          | 0/5 [00:00<?, ?iteration/s]/Users/younesstrittmatter/Documents/GitHub/AutoRA/equation-tree/src/equation_tree/tree.py:55: RuntimeWarning: invalid value encountered in arccos\n",
      "  \"acos\": lambda a: np.arccos(a),\n",
      "/Users/younesstrittmatter/Documents/GitHub/AutoRA/equation-tree/src/equation_tree/tree.py:56: RuntimeWarning: invalid value encountered in arcsin\n",
      "  \"asin\": lambda a: np.arcsin(a),\n",
      "/Users/younesstrittmatter/Documents/GitHub/AutoRA/equation-tree/src/equation_tree/tree.py:40: RuntimeWarning: invalid value encountered in scalar power\n",
      "  \"^\": lambda a, b: a**b,\n",
      "Processing: 100%|██████████| 5/5 [00:00<00:00, 312.27iteration/s]\n",
      "Processing:   0%|          | 0/5 [00:00<?, ?iteration/s]/Users/younesstrittmatter/Documents/GitHub/AutoRA/equation-tree/src/equation_tree/tree.py:40: RuntimeWarning: divide by zero encountered in scalar power\n",
      "  \"^\": lambda a, b: a**b,\n",
      "/Users/younesstrittmatter/Documents/GitHub/AutoRA/equation-tree/src/equation_tree/tree.py:47: RuntimeWarning: invalid value encountered in sin\n",
      "  \"sin\": lambda a: np.sin(a),\n",
      "Processing:  40%|████      | 2/5 [00:00<00:00, 12.82iteration/s]/Users/younesstrittmatter/Documents/GitHub/AutoRA/equation-tree/src/equation_tree/tree.py:52: RuntimeWarning: invalid value encountered in sqrt\n",
      "  \"sqrt\": lambda a: np.sqrt(a),\n",
      "/Users/younesstrittmatter/Documents/GitHub/AutoRA/equation-tree/src/equation_tree/tree.py:51: RuntimeWarning: invalid value encountered in log\n",
      "  \"log\": lambda a: np.log(a),\n",
      "Processing: 100%|██████████| 5/5 [00:00<00:00, 21.56iteration/s]\n"
     ]
    }
   ],
   "source": [
    "equations_simple = sample(n=5, depth=3)\n",
    "equations_complex = sample(n=5, depth=8)"
   ],
   "metadata": {
    "collapsed": false
   }
  },
  {
   "cell_type": "code",
   "execution_count": 29,
   "outputs": [
    {
     "name": "stdout",
     "output_type": "stream",
     "text": [
      "*** simple equations ***\n",
      " [acos(exp(x_1)), Max(c_1, x_1), x_1/c_1, asin(exp(x_1)), x_1**c_1] \n",
      "\n",
      "*** complex equations ***\n",
      " [sin(exp(sqrt(1 - sin(x_1)**2)/sin(x_1))**x_1), (x_1 + Min(x_1, sin(x_1)))/sqrt(1 - (x_1 + Min(x_1, sin(x_1)))**2), sqrt(Min(c_1**sin(sin(x_1)), x_1)), -asin(x_1)**x_1 + Min(c_1, x_1), Max(-x_1 + log(x_1), sqrt(Abs(x_1)))]\n"
     ]
    }
   ],
   "source": [
    "print('*** simple equations ***\\n', equations_simple, '\\n')\n",
    "print('*** complex equations ***\\n', equations_complex)"
   ],
   "metadata": {
    "collapsed": false
   }
  },
  {
   "cell_type": "markdown",
   "source": [
    "### Using Priors\n",
    "We can also make use of priors to fully customize the sampling. Here, the entries for the structures, features, functions and operators represent the probability of the respective attribute being sampled."
   ],
   "metadata": {
    "collapsed": false
   }
  },
  {
   "cell_type": "code",
   "execution_count": 34,
   "outputs": [
    {
     "name": "stderr",
     "output_type": "stream",
     "text": [
      "/Users/younesstrittmatter/Documents/GitHub/AutoRA/equation-tree/src/equation_tree/util/io.py:27: UserWarning: No hashed prior found. Sample frequencies may diverge from the prior. Consider burning this prior first.\n",
      "  warnings.warn(\n",
      "Processing: 100%|██████████| 100/100 [00:00<00:00, 190.81iteration/s]\n"
     ]
    },
    {
     "data": {
      "text/plain": "[cos(cos(x_1)),\n sin(sin(x_1)),\n -x_3 + sin(x_1) + sin(x_2),\n -x_3 + sin(x_2) + cos(x_1),\n cos(cos(x_1)),\n cos(sin(x_1)),\n sin(cos(x_1)),\n x_1 + x_2,\n sin(cos(x_1)),\n cos(sin(x_1)),\n x_1 + x_2,\n cos(sin(x_1)),\n x_1 - x_2,\n x_1 + x_2,\n sin(sin(x_1)),\n x_1 + x_2,\n sin(cos(x_1)),\n -c_1 + x_1,\n sin(cos(x_1)),\n x_1 + x_2,\n x_1 + x_2,\n x_1 + x_2,\n x_1 + x_2,\n sin(cos(x_1)),\n c_1 + x_1,\n x_1 - x_2,\n x_1 - x_2,\n x_1 + x_2,\n sin(sin(x_1)),\n c_1 + x_1,\n cos(sin(x_1)),\n cos(sin(x_1)),\n cos(sin(x_1)),\n cos(cos(x_1)),\n c_1 + x_1,\n sin(cos(x_1)),\n sin(cos(x_1)),\n x_1 - x_2,\n cos(sin(x_1)),\n cos(sin(x_1)),\n x_1 - x_2,\n cos(cos(x_1)),\n x_1 + x_2,\n x_1 + x_2,\n sin(sin(x_1)),\n c_1 + x_1,\n c_1 + x_1,\n x_1 + x_2,\n x_1 - x_2,\n sin(sin(x_1)),\n cos(cos(x_1)),\n cos(cos(x_1)),\n cos(cos(x_1)),\n sin(cos(x_1)),\n x_1 - x_2,\n sin(sin(x_1)),\n cos(cos(x_1)),\n c_1 + x_1,\n sin(sin(x_1)),\n cos(sin(x_1)),\n cos(sin(x_1)),\n x_1 + x_2,\n cos(sin(x_1)),\n sin(cos(x_1)),\n c_1 + x_1,\n -x_2,\n x_1 - x_2,\n -x_3 + sin(x_1) + sin(x_2),\n c_1 + x_1,\n x_1 + x_2,\n c_1 + x_1,\n c_1 + x_1,\n sin(sin(x_1)),\n cos(cos(x_1)),\n x_1 + x_2,\n c_1 + x_1,\n -x_1 + cos(x_1) + cos(x_2),\n x_1 - x_2,\n cos(sin(x_1)),\n sin(cos(x_1)),\n sin(cos(x_1)),\n sin(cos(x_1)),\n -x_3 + sin(x_1) + cos(x_2),\n x_1 + x_2,\n -x_3 + sin(x_2) + cos(x_1),\n -x_3 + sin(x_1) + sin(x_2),\n c_1 - x_1,\n c_1 + x_1,\n c_1 + x_1,\n cos(cos(x_1)),\n -x_2 + sin(x_2) + cos(x_1),\n c_1 + x_1,\n sin(sin(x_1)),\n c_1 + x_1,\n x_1 + x_2,\n sin(sin(x_1)),\n x_1 + x_2,\n x_1 + x_2,\n cos(sin(x_1)),\n sin(sin(x_1))]"
     },
     "execution_count": 34,
     "metadata": {},
     "output_type": "execute_result"
    }
   ],
   "source": [
    "p = {\n",
    "    'structures': {'[0, 1, 1]': .3, '[0, 1, 2]': .3, '[0, 1, 2, 3, 2, 3, 1]': .4},\n",
    "    'features': {'constants': .2, 'variables': .8},\n",
    "    'functions': {'sin': .5, 'cos': .5},\n",
    "    'operators': {'+': .8, '-': .2}\n",
    "}\n",
    "equations_with_prior = sample(n=10, prior=p, max_num_variables=10)\n",
    "equations_with_prior"
   ],
   "metadata": {
    "collapsed": false
   }
  },
  {
   "cell_type": "markdown",
   "source": [
    "We can also use conditional priors conditioned on the parent node:"
   ],
   "metadata": {
    "collapsed": false
   }
  },
  {
   "cell_type": "code",
   "execution_count": 38,
   "outputs": [
    {
     "name": "stderr",
     "output_type": "stream",
     "text": [
      "/Users/younesstrittmatter/Documents/GitHub/AutoRA/equation-tree/src/equation_tree/util/io.py:27: UserWarning: No hashed prior found. Sample frequencies may diverge from the prior. Consider burning this prior first.\n",
      "  warnings.warn(\n",
      "Processing: 100%|██████████| 100/100 [00:00<00:00, 128.08iteration/s]\n"
     ]
    },
    {
     "data": {
      "text/plain": "[cos(cos(x_1)),\n x_1 - x_2,\n -c_1 + x_1,\n sin(cos(x_1)),\n sin(cos(x_1)),\n c_1 + x_1,\n -c_1 + sin(x_1) + sin(x_2),\n cos(cos(x_1)),\n cos(cos(x_1)),\n -x_3 + sin(x_1) + sin(x_2),\n sin(cos(x_1)),\n c_1 - x_1,\n -x_3 + sin(x_1) + sin(x_2),\n cos(cos(x_1)),\n -x_3 + sin(x_1) + sin(x_2),\n cos(cos(x_1)),\n c_1 - x_1,\n sin(cos(x_1)),\n cos(cos(x_1)),\n x_1 - x_2,\n -c_1 + sin(x_1) + sin(x_2),\n -x_3 + sin(x_1) + sin(x_2),\n cos(cos(x_1)),\n c_1 - x_1,\n sin(cos(x_1)),\n x_1 - x_2,\n -x_3 - sin(x_2) + cos(x_1),\n -c_1 + x_1,\n sin(cos(x_1)),\n cos(cos(x_1)),\n sin(cos(x_1)),\n x_1 + x_2,\n cos(cos(x_1)),\n -x_3 + sin(x_1) - sin(x_2),\n c_1 + x_1,\n cos(cos(x_1)),\n cos(cos(x_1)),\n sin(cos(x_1)),\n x_1 - x_2,\n -x_3 + sin(x_1) + sin(x_2),\n -c_1 + x_1,\n c_1 - x_1,\n c_1 + x_1,\n c_1 + x_1,\n cos(cos(x_1)),\n -c_1 + sin(x_1) + sin(x_2),\n c_1 + x_1,\n sin(cos(x_1)),\n sin(cos(x_1)),\n -x_3 + sin(x_1) + sin(x_2),\n -x_3 + sin(x_1) - cos(x_2),\n sin(cos(x_1)),\n x_1 - x_2,\n -x_3 + cos(x_1) - cos(x_2),\n x_1 - x_2,\n cos(cos(x_1)),\n sin(cos(x_1)),\n -x_2 + sin(x_1) + sin(x_2),\n cos(cos(x_1)),\n -c_1 + sin(x_1) + sin(x_2),\n -x_2 + sin(x_1) - cos(x_2),\n cos(cos(x_1)),\n -x_2 + sin(x_1) + sin(x_2),\n -x_3 + sin(x_1) + sin(x_2),\n sin(cos(x_1)),\n cos(cos(x_1)),\n cos(cos(x_1)),\n -c_1 + sin(x_1) + sin(x_2),\n cos(cos(x_1)),\n cos(cos(x_1)),\n cos(cos(x_1)),\n -x_3 + sin(x_1) + sin(x_2),\n cos(cos(x_1)),\n cos(cos(x_1)),\n -x_3 + sin(x_1) + sin(x_2),\n x_1 + x_2,\n c_1 - x_1,\n -x_1 + sin(x_1) + sin(x_2),\n cos(cos(x_1)),\n -c_1 + sin(x_1) + sin(x_2),\n c_1 - x_1,\n cos(cos(x_1)),\n -x_3 + sin(x_1) + sin(x_2),\n cos(cos(x_1)),\n c_1 - x_1,\n -x_3 + sin(x_1) + sin(x_2),\n cos(cos(x_1)),\n -x_3 + sin(x_1) + sin(x_2),\n c_1 + x_1,\n x_1 - x_2,\n cos(cos(x_1)),\n c_1 + x_1,\n cos(cos(x_1)),\n sin(cos(x_1)),\n sin(cos(x_1)),\n sin(cos(x_1)),\n sin(cos(x_1)),\n sin(cos(x_1)),\n -x_3 + sin(x_1) + sin(x_2),\n c_1 + x_1]"
     },
     "execution_count": 38,
     "metadata": {},
     "output_type": "execute_result"
    }
   ],
   "source": [
    "p_ = {\n",
    "    'structures': {'[0, 1, 1]': .3, '[0, 1, 2]': .3, '[0, 1, 2, 3, 2, 3, 1]': .4},\n",
    "    'features': {'constants': .2, 'variables': .8},\n",
    "    'functions': {'sin': .5, 'cos': .5},\n",
    "    'operators': {'+': .5, '-': .5},\n",
    "    'function_conditionals': {\n",
    "        'sin': {\n",
    "            'features': {'constants': 0., 'variables': 1.},\n",
    "            'functions': {'sin': 0., 'cos': 1.},\n",
    "            'operators': {'+': .5, '-': .5}\n",
    "        },\n",
    "        'cos': {\n",
    "            'features': {'constants': 0., 'variables': 1.},\n",
    "            'functions': {'cos': 1., 'sin': 0.},\n",
    "            'operators': {'+': 0., '-': 1.}\n",
    "        }\n",
    "    },\n",
    "    'operator_conditionals': {\n",
    "        '+': {\n",
    "            'features': {'constants': .5, 'variables': .5},\n",
    "            'functions': {'sin': 1., 'cos': 0.},\n",
    "            'operators': {'+': 1., '-': 0.}\n",
    "        },\n",
    "        '-': {\n",
    "            'features': {'constants': .3, 'variables': .7},\n",
    "            'functions': {'cos': .5, 'sin': .5},\n",
    "            'operators': {'+': .9, '-': .1}\n",
    "        }\n",
    "    },\n",
    "}\n",
    "equations_with_conditional_prior = sample(n=10, prior=p_, max_num_variables=10)\n",
    "equations_with_conditional_prior"
   ],
   "metadata": {
    "collapsed": false
   }
  },
  {
   "cell_type": "markdown",
   "source": [
    "**WARNING**\n",
    "If your application is dependent on these priors, you should \"burn\" samples before starting the sampling.\n",
    "During the sampling process, equations get simplified and invalid equations are discarded. This is likely to lead to disparities between the priors and the sampled frequencies.\n",
    "To counteract this, the package offers the functionality to \"burn\" samples and adjust the priors so that the outcome frequency match them more closely. To burn samples, use the following code (We don't run it in the notebook since the adjusted priors are saved to disk for future use):\n",
    "```\n",
    "burn(\n",
    "    prior,\n",
    "    max_number_variables,\n",
    "    path_to_file,\n",
    "    number_of_burned_samples,\n",
    "    learning_rate\n",
    "    )\n",
    "```\n",
    "*this function should be run multiple times. The learning rate defines how much adjusted from previous runs are adjusted.\n",
    "After burning, you can load the adjusted priors via:\n",
    "```\n",
    "    sample(..., file=path_to_file)\n",
    "```\n",
    "*multiple adjusted priors can be stored in the same file."
   ],
   "metadata": {
    "collapsed": false
   }
  },
  {
   "cell_type": "code",
   "execution_count": null,
   "outputs": [],
   "source": [],
   "metadata": {
    "collapsed": false
   }
  }
 ],
 "metadata": {
  "kernelspec": {
   "display_name": "Python 3",
   "language": "python",
   "name": "python3"
  },
  "language_info": {
   "codemirror_mode": {
    "name": "ipython",
    "version": 2
   },
   "file_extension": ".py",
   "mimetype": "text/x-python",
   "name": "python",
   "nbconvert_exporter": "python",
   "pygments_lexer": "ipython2",
   "version": "2.7.6"
  }
 },
 "nbformat": 4,
 "nbformat_minor": 0
}
