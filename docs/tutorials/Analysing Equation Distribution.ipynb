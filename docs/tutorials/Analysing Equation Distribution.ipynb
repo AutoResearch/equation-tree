{
 "cells": [
  {
   "cell_type": "markdown",
   "source": [
    "# Analysing Distributions\n",
    "\n",
    "The equation tree can be used to extract information from existing distributions of equations (e.g., for example by scraping priors: https://autoresearch.github.io/equation-scraper/tutorials/equation_scraper_tutorial/)\n",
    "\n",
    "## Installation"
   ],
   "metadata": {
    "collapsed": false
   }
  },
  {
   "cell_type": "code",
   "execution_count": null,
   "outputs": [],
   "source": [
    "!pip install equation-tree"
   ],
   "metadata": {
    "collapsed": false
   }
  },
  {
   "cell_type": "markdown",
   "source": [
    "## Equation Database\n",
    "\n",
    "Here, we use a list of sympy equation to demonstrate the functionality"
   ],
   "metadata": {
    "collapsed": false
   }
  },
  {
   "cell_type": "code",
   "execution_count": null,
   "outputs": [],
   "source": [
    "# import functionality from sympy\n",
    "from sympy import sympify\n",
    "\n",
    "eq_1 = sympify('x_1 + x_2')\n",
    "eq_2 = sympify('exp(x_1) * 2.5')\n",
    "eq_3 = sympify('sin(x_1) + 2 * cos(x_2)')\n",
    "equation_list = [eq_1, eq_2, eq_3]"
   ],
   "metadata": {
    "collapsed": false
   }
  },
  {
   "cell_type": "markdown",
   "source": [
    "## Analyse the List\n",
    "\n",
    "We can obtain informations about equations and lists of equations:"
   ],
   "metadata": {
    "collapsed": false
   }
  },
  {
   "cell_type": "code",
   "execution_count": null,
   "outputs": [],
   "source": [
    "from equation_tree import get_frequencies\n",
    "\n",
    "# Show the frequencies of\n",
    "frequencies = get_frequencies(equation_list)\n",
    "frequencies"
   ],
   "metadata": {
    "collapsed": false
   }
  },
  {
   "cell_type": "markdown",
   "source": [
    "Instead of frequencies, we can also obtain absolute values:"
   ],
   "metadata": {
    "collapsed": false
   }
  },
  {
   "cell_type": "code",
   "execution_count": null,
   "outputs": [],
   "source": [
    "from src.equation_tree import get_counts\n",
    "\n",
    "counts  = get_counts(equation_list)\n",
    "counts"
   ],
   "metadata": {
    "collapsed": false
   }
  },
  {
   "cell_type": "markdown",
   "source": [
    "Note: We can directly use the obtained frequencies to sample new functions:"
   ],
   "metadata": {
    "collapsed": false
   }
  },
  {
   "cell_type": "code",
   "execution_count": null,
   "outputs": [],
   "source": [
    "from equation_tree import sample\n",
    "\n",
    "# sample equations\n",
    "equations = sample(10, frequencies)\n",
    "print(equations)"
   ],
   "metadata": {
    "collapsed": false
   }
  },
  {
   "cell_type": "code",
   "execution_count": null,
   "outputs": [],
   "source": [
    "# check the frequencies\n",
    "print(get_frequencies(equations))"
   ],
   "metadata": {
    "collapsed": false
   }
  }
 ],
 "metadata": {
  "kernelspec": {
   "display_name": "Python 3",
   "language": "python",
   "name": "python3"
  },
  "language_info": {
   "codemirror_mode": {
    "name": "ipython",
    "version": 2
   },
   "file_extension": ".py",
   "mimetype": "text/x-python",
   "name": "python",
   "nbconvert_exporter": "python",
   "pygments_lexer": "ipython2",
   "version": "2.7.6"
  }
 },
 "nbformat": 4,
 "nbformat_minor": 0
}
