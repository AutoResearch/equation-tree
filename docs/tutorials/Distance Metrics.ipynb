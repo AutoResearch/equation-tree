{
 "cells": [
  {
   "cell_type": "markdown",
   "source": [
    "# Distance Metrics\n",
    "\n",
    "Content:\n",
    "- Various ways to initialize an equation\n",
    "- Various ways to compare two equations\n",
    "\n",
    "## Installation\n",
    "The Equation Tree package is available on [pyPI](https://pypi.org/project/equation-tree/):"
   ],
   "metadata": {
    "collapsed": false
   }
  },
  {
   "cell_type": "code",
   "execution_count": null,
   "outputs": [],
   "source": [
    "!pip install equation-tree"
   ],
   "metadata": {
    "collapsed": false
   }
  },
  {
   "cell_type": "markdown",
   "source": [
    "## Initialization of Equations\n",
    "\n",
    "### Sampling\n",
    "\n",
    "In the previous tutorial, we learned how to sample an equation:"
   ],
   "metadata": {
    "collapsed": false
   }
  },
  {
   "cell_type": "code",
   "execution_count": null,
   "outputs": [],
   "source": [
    "# Imports\n",
    "import numpy as np\n",
    "from equation_tree import sample\n",
    "\n",
    "# Set a seed for reproducible results\n",
    "np.random.seed(42)\n",
    "\n",
    "# Initialization\n",
    "sampled_equation = sample()[0]\n",
    "sampled_equation"
   ],
   "metadata": {
    "collapsed": false
   }
  },
  {
   "cell_type": "markdown",
   "source": [
    "### From Sympy/String\n",
    "\n",
    "We can also use [sympy](https://www.sympy.org/en/index.html) representation to initialize an equation:"
   ],
   "metadata": {
    "collapsed": false
   }
  },
  {
   "cell_type": "code",
   "execution_count": null,
   "outputs": [],
   "source": [
    "# Import\n",
    "from equation_tree import EquationTree\n",
    "from sympy import sympify\n",
    "\n",
    "sympy_equation = sympify('x_1 * 2 + x_2 ** 3')\n",
    "equation_from_sympy = EquationTree.from_sympy(sympy_equation)\n",
    "equation_from_sympy"
   ],
   "metadata": {
    "collapsed": false
   }
  },
  {
   "cell_type": "markdown",
   "source": [
    "### From Prefix\n",
    "Or, we can use prefix notation to initialize an equation:"
   ],
   "metadata": {
    "collapsed": false
   }
  },
  {
   "cell_type": "code",
   "execution_count": null,
   "outputs": [],
   "source": [
    "equation_from_prefix = EquationTree.from_prefix(['+', '*', 'x_1', '2', '**', 'x_2', '3'])\n",
    "equation_from_prefix"
   ],
   "metadata": {
    "collapsed": false
   }
  },
  {
   "cell_type": "markdown",
   "source": [
    "!!!Note: This is feature can be used to manipulate equations:"
   ],
   "metadata": {
    "collapsed": false
   }
  },
  {
   "cell_type": "code",
   "execution_count": null,
   "outputs": [],
   "source": [
    "# Set a random seed for reproducible results\n",
    "np.random.seed(42)\n",
    "\n",
    "# Sample an initial equation\n",
    "equation = sample()[0]\n",
    "print('original:\\t', equation)\n",
    "\n",
    "# Use sympy to multiply the equation with a scalar and reinitialize it\n",
    "new_sympy_equation = equation.sympy_expr * 3\n",
    "equation_scaled = EquationTree.from_sympy(new_sympy_equation)\n",
    "print('scaled:\\t\\t', equation_scaled)\n",
    "\n",
    "# Use prefix notation to replace a function with another\n",
    "new_prefix_notation = ['sin' if x == 'abs' else x for x in equation_scaled.prefix]\n",
    "equation_replaced = EquationTree.from_prefix(new_prefix_notation)\n",
    "print('replaced:\\t', equation_replaced)"
   ],
   "metadata": {
    "collapsed": false
   }
  },
  {
   "cell_type": "markdown",
   "source": [
    "## Distance Metrics Between Equations\n",
    "For more indepth information about the distances used, please read the respective documentation\n",
    "\n",
    "### Prediction Distance\n",
    "First, we calculate the prediction distance. It is the difference between the values of the equations on a specified input sample."
   ],
   "metadata": {
    "collapsed": false
   }
  },
  {
   "cell_type": "code",
   "execution_count": null,
   "outputs": [],
   "source": [
    "# Import\n",
    "from equation_tree.metrics import prediction_distance\n",
    "\n",
    "# First, we define our equations\n",
    "sympy_square = sympify('x_1 ** 2')\n",
    "equation_square = EquationTree.from_sympy(sympy_square)\n",
    "\n",
    "sympy_cube = sympify('x_1 ** 3')\n",
    "equation_cube = EquationTree.from_sympy(sympy_cube)\n",
    "\n",
    "# For the prediction distance, we need to define a sample of input values on which the metric is evaluated:\n",
    "sample_1 = {'x_1': [0, 1, 2]}\n",
    "sample_2 = {'x_1': np.linspace(0,1)}\n",
    "sample_3 = {'x_1': np.linspace(-10, 10)}\n",
    "\n",
    "# Now, we can calculate the metrics:\n",
    "print('sample_1:\\t', prediction_distance(equation_square, equation_cube, sample_1))\n",
    "print('sample_2:\\t', prediction_distance(equation_square, equation_cube, sample_2))\n",
    "print('sample_3:\\t', prediction_distance(equation_square, equation_cube, sample_3))"
   ],
   "metadata": {
    "collapsed": false
   }
  },
  {
   "cell_type": "markdown",
   "source": [
    "### Symbolic Solution\n",
    "Second, we calculate the symbolic solution metric. This metric checks weather equations differ from each other only through scalars or constants."
   ],
   "metadata": {
    "collapsed": false
   }
  },
  {
   "cell_type": "code",
   "execution_count": null,
   "outputs": [],
   "source": [
    "# Import\n",
    "from equation_tree.metrics import symbolic_solution_quot, symbolic_solution_diff\n",
    "\n",
    "# Since x ** 2 and x ** 3 differ not only through multiplying with a scalar or adding a constant, the following returns inf\n",
    "print(f'diff|x_1 ** 2, x_1 ** 3| = {symbolic_solution_diff(equation_square, equation_cube)}')\n",
    "print(f'quot|x_1 ** 2, x_1 ** 3| = {symbolic_solution_quot(equation_square, equation_cube)}')\n",
    "print()\n",
    "\n",
    "equation_identity = EquationTree.from_sympy(sympify('x_1'))\n",
    "equation_identity_shifted = EquationTree.from_sympy(sympify('x_1 + 3'))\n",
    "equation_scaled = EquationTree.from_sympy(sympify('2 * x_1'))\n",
    "\n",
    "# Since x_1 + 3 is shifted x_1 with the value of three, the following returns 3\n",
    "print(f'diff|x_1 + 3, x_1| = {symbolic_solution_diff(equation_identity_shifted, equation_identity)}')\n",
    "# This still returns inf:\n",
    "print(f'quot|x_1 + 3, x_1| = {symbolic_solution_quot(equation_identity_shifted, equation_identity)}')\n",
    "print()\n",
    "\n",
    "# and vice vers for the scaled equations:\n",
    "print(f'diff|x_1 * 2, x_1| = {symbolic_solution_diff(equation_scaled, equation_identity)}')\n",
    "print(f'quot|x_1 * 2, x_1| = {symbolic_solution_quot(equation_scaled, equation_identity)}')\n",
    "print()"
   ],
   "metadata": {
    "collapsed": false
   }
  },
  {
   "cell_type": "markdown",
   "source": [
    "### Normalized Edit Distance\n",
    "For a pair of two trees, edit distance computes the minimum cost to transform one to another with a sequence of operations, each of which either 1) inserts, 2) deletes, or 3) renames a node. It is normalized between 0 and 1 (For more details, see the respective documentation)"
   ],
   "metadata": {
    "collapsed": false
   }
  },
  {
   "cell_type": "code",
   "execution_count": null,
   "outputs": [],
   "source": [
    "# Import\n",
    "from src.equation_tree.metrics import normalized_tree_distance\n",
    "\n",
    "# Here, we use the equations above to give examples:\n",
    "print(f'ned|x_1 ** 2, x_1 ** 3| = {normalized_tree_distance(equation_square, equation_cube)}')\n",
    "print(f'ned|x_1 + 3, x_1| = {normalized_tree_distance(equation_identity_shifted, equation_identity)}')\n",
    "print(f'ned|x_1 * 2, x_1| = {normalized_tree_distance(equation_scaled, equation_identity)}')"
   ],
   "metadata": {
    "collapsed": false
   }
  }
 ],
 "metadata": {
  "kernelspec": {
   "display_name": "Python 3",
   "language": "python",
   "name": "python3"
  },
  "language_info": {
   "codemirror_mode": {
    "name": "ipython",
    "version": 2
   },
   "file_extension": ".py",
   "mimetype": "text/x-python",
   "name": "python",
   "nbconvert_exporter": "python",
   "pygments_lexer": "ipython2",
   "version": "2.7.6"
  }
 },
 "nbformat": 4,
 "nbformat_minor": 0
}
