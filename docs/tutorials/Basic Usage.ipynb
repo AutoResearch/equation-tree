{
 "cells": [
  {
   "attachments": {},
   "cell_type": "markdown",
   "metadata": {
    "collapsed": false
   },
   "source": [
    "# Basic Usage\n",
    "\n",
    "Content:\n",
    "- Basic Functionality for sampling and processing equations\n",
    "- Advanced settings for sampling equations\n",
    "\n",
    "## Installation\n",
    "The Equation Tree package is available on [pyPI](https://pypi.org/project/equation-tree/):"
   ]
  },
  {
   "cell_type": "code",
   "execution_count": null,
   "metadata": {
    "collapsed": false
   },
   "outputs": [],
   "source": [
    "!pip install equation_tree"
   ]
  },
  {
   "cell_type": "markdown",
   "source": [
    "## Basic Functionality\n",
    "\n",
    "### Sampling With Default Settings\n",
    "First, we need to import the functionality.\n",
    "Here, we also set a seed to ensure reproducible results."
   ],
   "metadata": {
    "collapsed": false
   }
  },
  {
   "cell_type": "code",
   "execution_count": null,
   "outputs": [],
   "source": [
    "import random\n",
    "\n",
    "from equation_tree import sample\n",
    "\n",
    "# To obtain reproducible results, we set a seed for the following section\n",
    "import numpy as np\n",
    "np.random.seed(42)\n",
    "# Adjusting the input dimension of the equations"
   ],
   "metadata": {
    "collapsed": false
   }
  },
  {
   "cell_type": "markdown",
   "source": [
    "Then, we can sample an equation:"
   ],
   "metadata": {
    "collapsed": false
   }
  },
  {
   "cell_type": "code",
   "execution_count": null,
   "outputs": [],
   "source": [
    "equation = sample()"
   ],
   "metadata": {
    "collapsed": false
   }
  },
  {
   "cell_type": "markdown",
   "source": [
    "### Equation Representations And Features\n",
    "\n",
    "First, lets look at the type of the equation"
   ],
   "metadata": {
    "collapsed": false
   }
  },
  {
   "cell_type": "code",
   "execution_count": null,
   "outputs": [],
   "source": [
    "type(equation)"
   ],
   "metadata": {
    "collapsed": false
   }
  },
  {
   "cell_type": "markdown",
   "source": [
    "It is a list! This is because we can sample multiple equations in one go:"
   ],
   "metadata": {
    "collapsed": false
   }
  },
  {
   "cell_type": "code",
   "execution_count": null,
   "outputs": [],
   "source": [
    "equations = sample(n=100)"
   ],
   "metadata": {
    "collapsed": false
   }
  },
  {
   "cell_type": "markdown",
   "source": [
    "This returns 100 equations:"
   ],
   "metadata": {
    "collapsed": false
   }
  },
  {
   "cell_type": "code",
   "execution_count": null,
   "outputs": [],
   "source": [
    "print(len(equations))\n",
    "print(equations[0])\n",
    "print(equations[42])"
   ],
   "metadata": {
    "collapsed": false
   }
  },
  {
   "cell_type": "markdown",
   "source": [
    "They are represented as strings, but we can look at other representations. For example, prefix notation (for more details on different representations of the equations, see the respective section of the documentation):"
   ],
   "metadata": {
    "collapsed": false
   }
  },
  {
   "cell_type": "code",
   "execution_count": null,
   "outputs": [],
   "source": [
    "equations[42].prefix"
   ],
   "metadata": {
    "collapsed": false
   }
  },
  {
   "cell_type": "markdown",
   "source": [
    "We can also look at various features of the equation. For example, the number of constants, the tree depth of the underlying tree, the number of nodes or the tree structure (for more details on these features, see the respective section of the documentation):"
   ],
   "metadata": {
    "collapsed": false
   }
  },
  {
   "cell_type": "code",
   "execution_count": null,
   "outputs": [],
   "source": [
    "print(equations[42].n_constants)\n",
    "print(equations[42].depth)\n",
    "print(equations[42].n_nodes)\n",
    "print(equations[42].structure)"
   ],
   "metadata": {
    "collapsed": false
   }
  },
  {
   "cell_type": "markdown",
   "source": [
    "### Instantiate Equations\n",
    "\n",
    "Note, the constants in the sampled equation are abstract: symbols starting with c represent constants (c_1, c_2, ...). We can instantiate constants with numbers:"
   ],
   "metadata": {
    "collapsed": false
   }
  },
  {
   "cell_type": "code",
   "execution_count": null,
   "outputs": [],
   "source": [
    "# first we need to import the functionality\n",
    "from equation_tree import instantiate_constants\n",
    "import random\n",
    "\n",
    "# then we can use a function to instantiate the constants. For example for random constants between 0 and 1:\n",
    "instantiated_equation = instantiate_constants(equations[42], lambda : random.random())\n",
    "print(f'abstract: {equations[42]}', f', instantiated: {instantiated_equation}')"
   ],
   "metadata": {
    "collapsed": false
   }
  },
  {
   "cell_type": "code",
   "execution_count": null,
   "outputs": [],
   "source": [
    "# we can also use other functions (for example all functions to be a constant\n",
    "instantiated_equation_ = instantiate_constants(equations[41], lambda : 1)\n",
    "print(f'abstract: {equations[41]}', f', instantiated: {instantiated_equation_}')"
   ],
   "metadata": {
    "collapsed": false
   }
  },
  {
   "cell_type": "markdown",
   "source": [
    "*Note, we can use arbitrary functions to instantiate the constants.*\n",
    "\n",
    "### Evaluating Equations\n",
    "\n",
    "After instantiating equations, we can evaluate them on arbitrary input:"
   ],
   "metadata": {
    "collapsed": false
   }
  },
  {
   "cell_type": "code",
   "execution_count": null,
   "outputs": [],
   "source": [
    "# import functionality\n",
    "values = instantiated_equation.evaluate({'x_1': [1, 2, 3, 4]})\n",
    "values"
   ],
   "metadata": {
    "collapsed": false
   }
  },
  {
   "cell_type": "code",
   "execution_count": null,
   "outputs": [],
   "source": [
    "# We can also use pandas dataframes as inputs:\n",
    "\n",
    "# import functionality\n",
    "import pandas as pd\n",
    "\n",
    "# define the input and get the values\n",
    "input_df = pd.DataFrame({'x_1': [1, 2, 3, 4]})\n",
    "instantiated_equation.evaluate(input_df)"
   ],
   "metadata": {
    "collapsed": false
   }
  },
  {
   "cell_type": "markdown",
   "source": [
    "\n",
    "## Sample Settings\n",
    "\n",
    "When sampling equations, we can control for a variety of features of the underlying distribution.\n",
    "\n",
    "### Input Dimensions\n",
    "\n",
    "We can manipulate the space on witch the equations are defined. For example, if we want equations that are defined on 2-dimensions, we can write:"
   ],
   "metadata": {
    "collapsed": false
   }
  },
  {
   "cell_type": "code",
   "execution_count": null,
   "outputs": [],
   "source": [
    "equations_2d = sample(n=5, max_num_variables=2)"
   ],
   "metadata": {
    "collapsed": false
   }
  },
  {
   "cell_type": "code",
   "execution_count": null,
   "outputs": [],
   "source": [
    "equations_2d"
   ],
   "metadata": {
    "collapsed": false
   }
  },
  {
   "cell_type": "markdown",
   "source": [
    "*Note, not all the equations have exactly two input variable. Some of them have only one. This is since equations with one input variable are still defined on two (or more) dimensions.*\n",
    "\n",
    "### Equation Complexity\n",
    "\n",
    "We can also manipulate the equation complexity (for example, as tree depth):"
   ],
   "metadata": {
    "collapsed": false
   }
  },
  {
   "cell_type": "code",
   "execution_count": null,
   "outputs": [],
   "source": [
    "equations_simple = sample(n=5, depth=3)\n",
    "equations_complex = sample(n=5, depth=8)"
   ],
   "metadata": {
    "collapsed": false
   }
  },
  {
   "cell_type": "code",
   "execution_count": null,
   "outputs": [],
   "source": [
    "print('*** simple equations ***\\n', equations_simple, '\\n')\n",
    "print('*** complex equations ***\\n', equations_complex)"
   ],
   "metadata": {
    "collapsed": false
   }
  },
  {
   "cell_type": "markdown",
   "source": [
    "Instead of an exact depth, we can also sample all equations up to a specified depth:"
   ],
   "metadata": {
    "collapsed": false
   }
  },
  {
   "cell_type": "code",
   "execution_count": null,
   "outputs": [],
   "source": [
    "equations_simple = sample(n=5, max_depth=3)\n",
    "equations_complex = sample(n=5, max_depth=8)"
   ],
   "metadata": {
    "collapsed": false
   }
  },
  {
   "cell_type": "code",
   "execution_count": null,
   "outputs": [],
   "source": [
    "print('*** simple equations ***\\n', equations_simple, '\\n')\n",
    "print('*** complex equations ***\\n', equations_complex)"
   ],
   "metadata": {
    "collapsed": false
   }
  },
  {
   "cell_type": "markdown",
   "source": [
    "### Using Priors\n",
    "\n",
    "We can also make use of priors to fully customize the sampling. Here, the entries for the structures, features, functions and operators represent the probability of the respective attribute being sampled."
   ],
   "metadata": {
    "collapsed": false
   }
  },
  {
   "cell_type": "code",
   "execution_count": null,
   "outputs": [],
   "source": [
    "p = {\n",
    "    'structures': {'[0, 1, 1]': .3, '[0, 1, 2]': .3, '[0, 1, 2, 3, 2, 3, 1]': .4},\n",
    "    'features': {'constants': .2, 'variables': .8},\n",
    "    'functions': {'sin': .5, 'cos': .5},\n",
    "    'operators': {'+': .8, '-': .2}\n",
    "}\n",
    "equations_with_prior = sample(n=10, prior=p, max_num_variables=10)\n",
    "equations_with_prior"
   ],
   "metadata": {
    "collapsed": false
   }
  },
  {
   "cell_type": "markdown",
   "source": [
    "This functionality extends to the use of conditional priors conditioned on the respective parent node. For example, we can manipulate the probability of specific features, functions and operators inside a sin function (Here, if a feature is the child of the sin function it will always be a variable, if a function is the child of a sin function it will always be cos, and if an operator is the child of a sin function, it will have a 1:1 chance of being + or -)."
   ],
   "metadata": {
    "collapsed": false
   }
  },
  {
   "cell_type": "code",
   "execution_count": null,
   "outputs": [],
   "source": [
    "p_ = {\n",
    "    'structures': {'[0, 1, 1]': .3, '[0, 1, 2]': .3, '[0, 1, 2, 3, 2, 3, 1]': .4},\n",
    "    'features': {'constants': .2, 'variables': .8},\n",
    "    'functions': {'sin': .5, 'cos': .5},\n",
    "    'operators': {'+': .5, '-': .5},\n",
    "    'function_conditionals': {\n",
    "        'sin': {\n",
    "            'features': {'constants': 0., 'variables': 1.},\n",
    "            'functions': {'sin': 0., 'cos': 1.},\n",
    "            'operators': {'+': .5, '-': .5}\n",
    "        },\n",
    "        'cos': {\n",
    "            'features': {'constants': 0., 'variables': 1.},\n",
    "            'functions': {'cos': 1., 'sin': 0.},\n",
    "            'operators': {'+': 0., '-': 1.}\n",
    "        }\n",
    "    },\n",
    "    'operator_conditionals': {\n",
    "        '+': {\n",
    "            'features': {'constants': .5, 'variables': .5},\n",
    "            'functions': {'sin': 1., 'cos': 0.},\n",
    "            'operators': {'+': 1., '-': 0.}\n",
    "        },\n",
    "        '-': {\n",
    "            'features': {'constants': .3, 'variables': .7},\n",
    "            'functions': {'cos': .5, 'sin': .5},\n",
    "            'operators': {'+': .9, '-': .1}\n",
    "        }\n",
    "    },\n",
    "}\n",
    "equations_with_conditional_prior = sample(n=10, prior=p_, max_num_variables=10)\n",
    "equations_with_conditional_prior"
   ],
   "metadata": {
    "collapsed": false
   }
  },
  {
   "cell_type": "markdown",
   "source": [
    "**WARNING**\n",
    "If your application is dependent on these priors, you should \"burn\" samples before starting the sampling.\n",
    "During the sampling process, equations get simplified and invalid equations are discarded. This is likely to lead to disparities between the priors and the sampled frequencies.\n",
    "To counteract this, the package offers the functionality to \"burn\" samples and adjust the priors so that the outcome frequency match them more closely. To burn samples, use the following code (We don't run it in the notebook since the adjusted priors are saved to disk for future use):\n",
    "```\n",
    "burn(\n",
    "    prior,\n",
    "    max_number_variables,\n",
    "    path_to_file,\n",
    "    number_of_burned_samples,\n",
    "    learning_rate\n",
    "    )\n",
    "```\n",
    "*this function should be run multiple times. The learning rate defines how much adjusted from previous runs are adjusted.\n",
    "After burning, you can load the adjusted priors via:\n",
    "```\n",
    "    sample(..., file=path_to_file)\n",
    "```\n",
    "*multiple adjusted priors can be stored in the same file."
   ],
   "metadata": {
    "collapsed": false
   }
  }
 ],
 "metadata": {
  "kernelspec": {
   "display_name": "Python 3",
   "language": "python",
   "name": "python3"
  },
  "language_info": {
   "codemirror_mode": {
    "name": "ipython",
    "version": 2
   },
   "file_extension": ".py",
   "mimetype": "text/x-python",
   "name": "python",
   "nbconvert_exporter": "python",
   "pygments_lexer": "ipython2",
   "version": "2.7.6"
  }
 },
 "nbformat": 4,
 "nbformat_minor": 0
}
